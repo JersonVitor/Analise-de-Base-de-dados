{
  "cells": [
    {
      "cell_type": "markdown",
      "metadata": {
        "id": "e-cyYZJ_rfYB"
      },
      "source": [
        "# Imports\n"
      ]
    },
    {
      "cell_type": "code",
      "execution_count": 40,
      "metadata": {
        "id": "Xfq2aeE3qFtS"
      },
      "outputs": [],
      "source": [
        "!pip -q install yellowbrick\n",
        "!pip -q install imbalanced-learn\n",
        "import math\n",
        "import random\n",
        "import pickle\n",
        "import operator\n",
        "import itertools\n",
        "import functools\n",
        "import numpy as np\n",
        "import pandas as pd\n",
        "import seaborn as sns\n",
        "import plotly.express as px\n",
        "import matplotlib.pyplot as plt\n",
        "from sklearn.manifold import TSNE\n",
        "from sklearn.impute import KNNImputer\n",
        "from sklearn.decomposition import PCA\n",
        "from sklearn.feature_selection import RFE\n",
        "from sklearn.ensemble import IsolationForest\n",
        "from sklearn.compose import ColumnTransformer\n",
        "from sklearn.preprocessing import LabelEncoder\n",
        "from sklearn.preprocessing import MinMaxScaler\n",
        "from sklearn.preprocessing import OneHotEncoder\n",
        "from sklearn.tree import DecisionTreeClassifier\n",
        "from sklearn.calibration import cross_val_predict\n",
        "from sklearn.model_selection import GridSearchCV\n",
        "from yellowbrick.classifier import ConfusionMatrix\n",
        "from sklearn.model_selection import train_test_split\n",
        "from imblearn.under_sampling import RandomUnderSampler\n",
        "from sklearn.base import BaseEstimator, ClassifierMixin\n",
        "from sklearn.metrics import accuracy_score, confusion_matrix, classification_report, make_scorer\n",
        "from sklearn.model_selection import cross_val_score, GridSearchCV, StratifiedKFold\n",
        "from sklearn.ensemble import RandomForestClassifier\n",
        "from sklearn.neural_network import MLPClassifier\n"
      ]
    },
    {
      "cell_type": "markdown",
      "metadata": {
        "id": "7CEXNzllr63i"
      },
      "source": [
        "# Base de Dados"
      ]
    },
    {
      "cell_type": "markdown",
      "metadata": {
        "id": "_RPJ9IOfqFtU"
      },
      "source": [
        "#### Abrindo dataset"
      ]
    },
    {
      "cell_type": "code",
      "execution_count": 41,
      "metadata": {
        "id": "8QiOPhcaqFtU"
      },
      "outputs": [],
      "source": [
        "base = pd.read_csv('2015.csv')"
      ]
    },
    {
      "cell_type": "code",
      "execution_count": null,
      "metadata": {
        "colab": {
          "base_uri": "https://localhost:8080/",
          "height": 444
        },
        "id": "vYrJkKj7qFtU",
        "outputId": "af25fd76-53be-415e-8e2a-c9dc9ab3937f"
      },
      "outputs": [],
      "source": [
        "base"
      ]
    },
    {
      "cell_type": "markdown",
      "metadata": {},
      "source": [
        "Fazendo o processo de binarização do atributo DIABETE3, já que o atributo é categorico nominal, mas focamos apenas em ser diabético ou não-diabético"
      ]
    },
    {
      "cell_type": "code",
      "execution_count": 43,
      "metadata": {
        "id": "I60JkjLRqFtV"
      },
      "outputs": [],
      "source": [
        "teste = base.copy()\n",
        "teste = base[base['DIABETE3'].isin([1, 3])].copy()\n",
        "teste.loc[teste['DIABETE3'] == 3, 'DIABETE3'] = 0"
      ]
    },
    {
      "cell_type": "markdown",
      "metadata": {},
      "source": [
        "Atributos selecionados com base na literatura"
      ]
    },
    {
      "cell_type": "code",
      "execution_count": 44,
      "metadata": {
        "id": "u9lOUgS3qFtV"
      },
      "outputs": [],
      "source": [
        "atributos_selecionados =[\"BPMEDS\",\"_BMI5CAT\",\"TOLDHI2\",\"_SMOKER3\",\"CVDSTRK3\",\"CVDCRHD4\",\"EXERANY2\",\"_FRTLT1\",\n",
        "                        \"_VEGLT1\",\"_RFDRHV5\",\"CHCKIDNY\",\"PHYSHLTH\",\"GENHLTH\",\"_EDUCAG\",\"SEX\",\"_AGE_G\",\n",
        "                        \"INCOME2\",\"_PA150R2\",\"CHECKUP1\",\"DIABETE3\"]"
      ]
    },
    {
      "cell_type": "code",
      "execution_count": 45,
      "metadata": {
        "id": "7tEtPB6qqFtV"
      },
      "outputs": [],
      "source": [
        "teste = teste[atributos_selecionados]"
      ]
    },
    {
      "cell_type": "code",
      "execution_count": null,
      "metadata": {
        "colab": {
          "base_uri": "https://localhost:8080/",
          "height": 444
        },
        "id": "DEw2iMMPqFtV",
        "outputId": "d2adfaf9-e717-4264-c0c5-94695d5677ba"
      },
      "outputs": [],
      "source": [
        "teste"
      ]
    },
    {
      "cell_type": "markdown",
      "metadata": {
        "id": "J9kf80oksFX1"
      },
      "source": [
        "# Pré-Processamento"
      ]
    },
    {
      "cell_type": "markdown",
      "metadata": {
        "id": "-bRakhwmqFtW"
      },
      "source": [
        "#### Remoção de instâncias e atributos com muitos dados nulos!"
      ]
    },
    {
      "cell_type": "markdown",
      "metadata": {},
      "source": [
        "Processo de tratamento de valores fora do range de utilização"
      ]
    },
    {
      "cell_type": "code",
      "execution_count": null,
      "metadata": {
        "colab": {
          "base_uri": "https://localhost:8080/",
          "height": 444
        },
        "id": "0nHk8RtA4EiU",
        "outputId": "43264960-cade-4e86-a7c4-0f25f8841f86"
      },
      "outputs": [],
      "source": [
        "base_pre = teste\n",
        "\n",
        "above_seven_nullable = ['BPMEDS','TOLDHI2','EXERANY2','_PA150R2','_FRTLT1','_VEGLT1','CVDSTRK3','CVDCRHD4','CHCKIDNY','GENHLTH','_RFDRHV5','_SMOKER3','_EDUCAG']\n",
        "above_tirty_nullabe = ['PHYSHLTH','INCOME2']\n",
        "conditional = lambda x: 0 if x == 88 else (np.nan if x == 77 or x == 99 else x)\n",
        "\n",
        "for column in above_seven_nullable:\n",
        "    base_pre[column] = base_pre[column].apply(lambda x: np.nan if x >= 7 else x)\n",
        "\n",
        "for column in above_tirty_nullabe:\n",
        "    base_pre[column] = base_pre[column].apply(conditional)\n",
        "\n",
        "base_pre['CHECKUP1'] = base_pre['CHECKUP1'].apply(lambda x: np.nan if x >= 9 else x)\n",
        "base_pre\n"
      ]
    },
    {
      "cell_type": "markdown",
      "metadata": {},
      "source": [
        "Remoção de instâncias com base em um taxa de atributos nulos"
      ]
    },
    {
      "cell_type": "code",
      "execution_count": null,
      "metadata": {
        "colab": {
          "base_uri": "https://localhost:8080/"
        },
        "id": "O0CwQFEQqFtW",
        "outputId": "94b04ff5-035f-492a-862d-00369cc7a395"
      },
      "outputs": [],
      "source": [
        "max_null_rate = 0.2\n",
        "taxaNullPorLinha = base_pre.isnull().mean(axis=1)\n",
        "\n",
        "base_filtrada = base_pre[taxaNullPorLinha <= max_null_rate]\n",
        "\n",
        "print(\"DataFrame original:\")\n",
        "print(base_pre.shape[0])\n",
        "print(\"\\nDataFrame filtrado:\")\n",
        "print(base_filtrada.shape[0])"
      ]
    },
    {
      "cell_type": "code",
      "execution_count": null,
      "metadata": {
        "colab": {
          "base_uri": "https://localhost:8080/",
          "height": 444
        },
        "id": "gUdHdO0nqFtW",
        "outputId": "76a07497-4306-40dc-d18e-8ca8774ff969"
      },
      "outputs": [],
      "source": [
        "base_filtrada"
      ]
    },
    {
      "cell_type": "markdown",
      "metadata": {
        "id": "SKOfmfT6qFtW"
      },
      "source": [
        "Remoção de atributos com muitos dados nulos"
      ]
    },
    {
      "cell_type": "code",
      "execution_count": null,
      "metadata": {
        "colab": {
          "base_uri": "https://localhost:8080/"
        },
        "id": "DfqoSenqqFtW",
        "outputId": "85ce5d6a-c53e-43ac-b7a4-04932690a931"
      },
      "outputs": [],
      "source": [
        "for col_name, col_data in base_filtrada.items():\n",
        "    num_nulls = col_data.isnull().sum()\n",
        "    print(f'Coluna: {col_name}, Número de valores nulos: {num_nulls}')"
      ]
    },
    {
      "cell_type": "code",
      "execution_count": 55,
      "metadata": {
        "colab": {
          "base_uri": "https://localhost:8080/"
        },
        "id": "l4BKkpeSqFtW",
        "outputId": "2a5ede93-c110-4ab7-95db-37961bc56430"
      },
      "outputs": [
        {
          "name": "stdout",
          "output_type": "stream",
          "text": [
            "BPMEDS\n"
          ]
        }
      ],
      "source": [
        "taxaMaxNull = 0.2\n",
        "maxNulls = base_filtrada.shape[0] * taxaMaxNull\n",
        "print(\"Atributos removidos:\")\n",
        "for col_name, col_data in base_filtrada.items():\n",
        "    num_nulls = col_data.isnull().sum()\n",
        "    if(num_nulls > maxNulls):\n",
        "        base_filtrada = base_filtrada.drop([col_name],axis=1)\n",
        "        print(col_name)"
      ]
    },
    {
      "cell_type": "markdown",
      "metadata": {
        "id": "3uG9cgZSqFtX"
      },
      "source": [
        "#### Visualização dos dados na matriz de correlação"
      ]
    },
    {
      "cell_type": "code",
      "execution_count": null,
      "metadata": {
        "id": "ATBb4ANdqFtX",
        "outputId": "11a89433-b2fd-43fc-c1b3-eac03e1544a2"
      },
      "outputs": [],
      "source": [
        "matriz_correlation = base_filtrada.corr()\n",
        "plt.figure(figsize=(12, 8))\n",
        "\n",
        "sns.heatmap(matriz_correlation, annot=True, cmap='coolwarm', vmin=-1,vmax=1,annot_kws={\"size\": 11},fmt=\".1f\")\n",
        "plt.title('Matriz de Correlação')\n",
        "plt.show()\n",
        "\n"
      ]
    },
    {
      "cell_type": "markdown",
      "metadata": {},
      "source": [
        "Com base na análise e visualização da matriz de correlação, o atributo EXERANY2 foi removido pelo fato de ele ser menos insignificante do que PAI150R2"
      ]
    },
    {
      "cell_type": "code",
      "execution_count": 57,
      "metadata": {},
      "outputs": [],
      "source": [
        "base_selecao = base_filtrada.drop('EXERANY2',axis = 1)"
      ]
    },
    {
      "cell_type": "markdown",
      "metadata": {
        "id": "oOdV7Q-CqFtX"
      },
      "source": [
        "#### Balanceamto"
      ]
    },
    {
      "cell_type": "code",
      "execution_count": null,
      "metadata": {
        "colab": {
          "base_uri": "https://localhost:8080/"
        },
        "id": "yFwYEK4KqFtX",
        "outputId": "5b4b5477-07dd-4f79-d143-11100b5690c6"
      },
      "outputs": [],
      "source": [
        "\n",
        "X = base_selecao.drop('DIABETE3', axis=1)\n",
        "y = base_selecao['DIABETE3']\n",
        "\n",
        "# Aplicar o RandomUnderSampler\n",
        "rus = RandomUnderSampler(random_state=42)\n",
        "X_resampled, y_resampled = rus.fit_resample(X, y)\n",
        "\n",
        "# Criar um DataFrame com os dados reamostrados\n",
        "base_balanceamento= pd.DataFrame(X_resampled, columns=X.columns)\n",
        "base_balanceamento['DIABETE3'] = y_resampled\n",
        "\n",
        "print(\"Original class distribution:\")\n",
        "print(y.value_counts())\n",
        "\n",
        "print(\"\\nResampled class distribution:\")\n",
        "print(y_resampled.value_counts())\n",
        "\n"
      ]
    },
    {
      "cell_type": "markdown",
      "metadata": {
        "id": "uwkwNfJIqFtY"
      },
      "source": [
        "#### Dados Ausentes"
      ]
    },
    {
      "cell_type": "code",
      "execution_count": 59,
      "metadata": {
        "id": "02vDYjhSqFtY"
      },
      "outputs": [],
      "source": [
        "nomeColunas = base_balanceamento.columns\n",
        "imputer = KNNImputer(n_neighbors =5)\n",
        "X_imputed = imputer.fit_transform(base_balanceamento)\n",
        "base_notAusente = pd.DataFrame(X_imputed,columns=nomeColunas)"
      ]
    },
    {
      "cell_type": "markdown",
      "metadata": {},
      "source": [
        "Pelo falo do KNNImputer poder atribuir dados em ponto flutuante em atributos categóricos, foi aplicado o processo de arredondamento"
      ]
    },
    {
      "cell_type": "code",
      "execution_count": null,
      "metadata": {
        "colab": {
          "base_uri": "https://localhost:8080/",
          "height": 444
        },
        "id": "TuThUYk-qFtY",
        "outputId": "85486201-5cd4-4aed-ddac-17472a0167f7"
      },
      "outputs": [],
      "source": [
        "colunas_arredondar = [\"_BMI5CAT\",\"TOLDHI2\",\"_SMOKER3\",\"CVDSTRK3\",\"CVDCRHD4\",\"_FRTLT1\",\n",
        "                        \"_VEGLT1\",\"_RFDRHV5\",\"CHCKIDNY\",\"GENHLTH\",\"_EDUCAG\",\"SEX\",\"_AGE_G\",\n",
        "                        \"INCOME2\",\"_PA150R2\",\"CHECKUP1\"]\n",
        "\n",
        "casas_decimais = 0\n",
        "base_round = base_notAusente\n",
        "base_round[colunas_arredondar] = base_notAusente[colunas_arredondar].round(casas_decimais)\n",
        "base_round"
      ]
    },
    {
      "cell_type": "markdown",
      "metadata": {
        "id": "qeiH2GQuqFtY"
      },
      "source": [
        "#### Remoção de Outliers"
      ]
    },
    {
      "cell_type": "code",
      "execution_count": null,
      "metadata": {
        "colab": {
          "base_uri": "https://localhost:8080/"
        },
        "id": "wurXOb0EqFtY",
        "outputId": "97c6bfc9-4e37-4dd2-a8a0-c016188a1483"
      },
      "outputs": [],
      "source": [
        "out_IF = IsolationForest(contamination=0.1).fit_predict(base_notAusente)\n",
        "out_IF_series = pd.Series(out_IF, index=base_notAusente.index)\n",
        "outliers = base_notAusente[out_IF_series == -1]\n",
        "inliers = base_notAusente[out_IF_series == 1]\n",
        "inliers.reset_index(drop=True,inplace=True)\n",
        "base_notOutliers = pd.DataFrame(inliers)\n",
        "print('\\nDados com Outliers')\n",
        "print('Nº Amostras:', outliers.shape[0])\n",
        "print('\\nDados sem Outliers')\n",
        "print('Nº Amostras:', base_notOutliers.shape[0])\n"
      ]
    },
    {
      "cell_type": "code",
      "execution_count": null,
      "metadata": {
        "colab": {
          "base_uri": "https://localhost:8080/",
          "height": 444
        },
        "id": "Hw9AQAY2qFtY",
        "outputId": "34326901-9cd5-4e2e-cff0-5871fd1ce754"
      },
      "outputs": [],
      "source": [
        "base_notOutliers"
      ]
    },
    {
      "cell_type": "markdown",
      "metadata": {
        "id": "_Bdxc6JFqFtZ"
      },
      "source": [
        "#### Redundância"
      ]
    },
    {
      "cell_type": "code",
      "execution_count": 63,
      "metadata": {
        "id": "JnVsLrH_qFtZ"
      },
      "outputs": [],
      "source": [
        "base_notDuplicatas = base_notOutliers.drop_duplicates()"
      ]
    },
    {
      "cell_type": "code",
      "execution_count": null,
      "metadata": {
        "id": "0oHM2rKeqFtZ"
      },
      "outputs": [],
      "source": [
        "base_notDuplicatas"
      ]
    },
    {
      "cell_type": "markdown",
      "metadata": {
        "id": "ijjnhBVzqFtZ"
      },
      "source": [
        "#### Normalização"
      ]
    },
    {
      "cell_type": "code",
      "execution_count": null,
      "metadata": {
        "colab": {
          "base_uri": "https://localhost:8080/"
        },
        "id": "BiiUiwuSqFtZ",
        "outputId": "21c28122-9990-4cf2-d0e4-b6a6bc5d70b8"
      },
      "outputs": [],
      "source": [
        "scaler = MinMaxScaler()\n",
        "colunas_normalizar = ['PHYSHLTH']\n",
        "base_normalizada = base_notDuplicatas\n",
        "base_normalizada[colunas_normalizar] = scaler.fit_transform(base_normalizada[colunas_normalizar])"
      ]
    },
    {
      "cell_type": "code",
      "execution_count": null,
      "metadata": {
        "colab": {
          "base_uri": "https://localhost:8080/",
          "height": 444
        },
        "id": "m9g7wGg7qFta",
        "outputId": "e769e6ff-df2d-4c9d-feec-f2fd82a2d99c"
      },
      "outputs": [],
      "source": [
        "base_normalizada"
      ]
    },
    {
      "cell_type": "markdown",
      "metadata": {},
      "source": [
        "Transformação de atributos categóricos dividindo em colunas binarizadas"
      ]
    },
    {
      "cell_type": "code",
      "execution_count": 67,
      "metadata": {
        "id": "z7tPqcY3qFta"
      },
      "outputs": [],
      "source": [
        "base_categorica = base_normalizada\n",
        "nome_colunas = base_categorica.columns\n",
        "onehotencoder = ColumnTransformer(transformers=[('OneHot', OneHotEncoder(), [0,1,2,3,4,5,6,7,8,10,11,12,13,14,15,16])], remainder='passthrough')\n",
        "X_sparse = onehotencoder.fit_transform(base_categorica)\n",
        "novas_colunas = onehotencoder.get_feature_names_out()\n",
        "X_prev = pd.DataFrame(X_sparse, columns=novas_colunas)\n",
        "base_final = X_prev"
      ]
    },
    {
      "cell_type": "code",
      "execution_count": null,
      "metadata": {
        "colab": {
          "base_uri": "https://localhost:8080/",
          "height": 444
        },
        "id": "et9HgnAWqFta",
        "outputId": "198b4881-8838-4b96-e788-b26db9dd46dc"
      },
      "outputs": [],
      "source": [
        "base_final"
      ]
    },
    {
      "cell_type": "markdown",
      "metadata": {},
      "source": [
        "#### Análise de redução de dimensionalidade"
      ]
    },
    {
      "cell_type": "code",
      "execution_count": null,
      "metadata": {},
      "outputs": [],
      "source": [
        "X = base_final.drop(columns=['remainder__DIABETE3'])\n",
        "y = base_final['remainder__DIABETE3']\n",
        "print(y.value_counts())\n",
        "sample_size = 0.1\n",
        "X_sample, _, y_sample, _ = train_test_split(X, y, train_size=sample_size, stratify=y, random_state=42)\n",
        "print(y_sample.value_counts())\n",
        "pca = PCA(n_components=2)\n",
        "X_pca = pca.fit_transform(X_sample)\n",
        "tsne = TSNE(n_components=2, perplexity=30, n_iter=1000, random_state=42)\n",
        "X_tsne = tsne.fit_transform(X_pca)\n",
        "df = pd.DataFrame(data=X_tsne, columns=['Componente Principal 1', 'Componente Principal 2'])\n",
        "df['Classe'] = y_sample.reset_index(drop=True)\n",
        "plt.figure(figsize=(10, 6))\n",
        "sns.scatterplot(x='Componente Principal 1', \n",
        "                y='Componente Principal 2',\n",
        "                hue='Classe',\n",
        "                palette=sns.color_palette(\"hls\", len(df['Classe'].unique())),\n",
        "                data=df,\n",
        "                legend=\"full\")\n",
        "plt.title('t-SNE - Conjunto de Dados Diabetes')\n",
        "plt.xlabel('Componente Principal 1')\n",
        "plt.ylabel('Componente Principal 2')\n",
        "plt.legend(title='Classe')\n",
        "plt.show()"
      ]
    },
    {
      "cell_type": "markdown",
      "metadata": {
        "id": "RZsWYTbusLsZ"
      },
      "source": [
        "# Treinamento"
      ]
    },
    {
      "cell_type": "code",
      "execution_count": 71,
      "metadata": {
        "id": "7l0hCQj-0j-g"
      },
      "outputs": [],
      "source": [
        "y = base_final['remainder__DIABETE3']\n",
        "X = base_final.drop('remainder__DIABETE3', axis=1).copy()"
      ]
    },
    {
      "cell_type": "markdown",
      "metadata": {},
      "source": [
        "#### Calculo de Hiperparâmetros com GridSearchCV"
      ]
    },
    {
      "cell_type": "code",
      "execution_count": 83,
      "metadata": {
        "id": "uNMMLHzjqFta"
      },
      "outputs": [],
      "source": [
        "rf = RandomForestClassifier()\n",
        "rf_param_grid = {\n",
        "    'n_estimators': [50, 100, 200],\n",
        "    'max_depth': [10, 20, None],\n",
        "    'min_samples_split': [2, 5, 10]\n",
        "}\n",
        "\n",
        "dt = DecisionTreeClassifier()\n",
        "dt_param_grid = {\n",
        "    'max_depth': [10, 20, None], \n",
        "    'min_samples_split': [2, 5, 10],\n",
        "    'criterion': ['gini', 'entropy']\n",
        "}\n",
        "\n",
        "mlp = MLPClassifier(max_iter=1000)\n",
        "mlp_param_grid = {\n",
        "    'hidden_layer_sizes': [3,5, 10],\n",
        "    'activation': ['tanh', 'relu'],\n",
        "    'solver': ['sgd', 'adam'],\n",
        "    'alpha': [0.0001, 0.05],\n",
        "    'learning_rate': ['constant', 'adaptive']\n",
        "}"
      ]
    },
    {
      "cell_type": "code",
      "execution_count": null,
      "metadata": {
        "colab": {
          "base_uri": "https://localhost:8080/",
          "height": 373
        },
        "id": "n0SsZ9GSxzi0",
        "outputId": "dfeb480c-cb20-4794-c0b3-c71611c57ee7"
      },
      "outputs": [],
      "source": [
        "cv = StratifiedKFold(n_splits=5, shuffle=True, random_state=42)\n",
        "rf_grid_search = GridSearchCV(rf, rf_param_grid, cv=cv, scoring='accuracy', verbose=1)\n",
        "rf_grid_search.fit(X, y)\n"
      ]
    },
    {
      "cell_type": "code",
      "execution_count": null,
      "metadata": {},
      "outputs": [],
      "source": [
        "dt_grid_search = GridSearchCV(dt, dt_param_grid, cv=cv, scoring='accuracy', verbose=1)\n",
        "dt_grid_search.fit(X, y)\n"
      ]
    },
    {
      "cell_type": "code",
      "execution_count": null,
      "metadata": {},
      "outputs": [],
      "source": [
        "mlp_grid_search = GridSearchCV(mlp, mlp_param_grid, cv=cv, scoring='accuracy', verbose=1)\n",
        "mlp_grid_search.fit(X, y)"
      ]
    },
    {
      "cell_type": "code",
      "execution_count": null,
      "metadata": {
        "id": "zSUT8a3uyI01"
      },
      "outputs": [],
      "source": [
        "print(\"Melhores Parâmetros do Random Forest:\")\n",
        "print(rf_grid_search.best_params_)\n",
        "rf_best = rf_grid_search.best_estimator_\n",
        "\n",
        "rf_scores = cross_val_score(rf_best, X, y, cv=cv, scoring='accuracy')\n",
        "print(f\"Acurácia do Cross-Validation do Random Forest : {np.mean(rf_scores):.4f} (+/- {np.std(rf_scores):.4f})\")\n",
        "\n",
        "\n",
        "\n",
        "print(\"\\nMelhores Parâmetros da Decision Tree:\")\n",
        "print(dt_grid_search.best_params_)\n",
        "dt_best = dt_grid_search.best_estimator_\n",
        "\n",
        "dt_scores = cross_val_score(dt_best, X, y, cv=cv, scoring='accuracy')\n",
        "print(f\"Acurácia do Cross-Validation do Decision Tree: {np.mean(dt_scores):.4f} (+/- {np.std(dt_scores):.4f})\")\n",
        "\n",
        "\n",
        "\n",
        "print(\"\\nMelhores Parâmetros da Neural Network:\")\n",
        "print(mlp_grid_search.best_params_)\n",
        "mlp_best = mlp_grid_search.best_estimator_\n",
        "\n",
        "mlp_scores = cross_val_score(mlp_best, X, y, cv=cv, scoring='accuracy')\n",
        "print(f\"Acurácia do Cross-Validation da Neural Network: {np.mean(mlp_scores):.4f} (+/- {np.std(mlp_scores):.4f})\")\n"
      ]
    },
    {
      "cell_type": "markdown",
      "metadata": {},
      "source": [
        "#### Treinamento dos Modelos baseado nos melhores parâmetros "
      ]
    },
    {
      "cell_type": "code",
      "execution_count": null,
      "metadata": {},
      "outputs": [],
      "source": [
        "rf_best = RandomForestClassifier(max_depth=10, min_samples_split=5, n_estimators=200)\n",
        "\n",
        "dt_best = DecisionTreeClassifier(criterion='gini', max_depth=10, min_samples_split=5)\n",
        "\n",
        "mlp_best = MLPClassifier(max_iter=1000, activation='tanh', alpha=0.05, hidden_layer_sizes=(3,), learning_rate='constant', solver='adam')\n",
        "\n",
        "cv = StratifiedKFold(n_splits=5, shuffle=True, random_state=42)\n",
        "\n",
        "y_pred_rf = cross_val_predict(rf_best, X, y, cv=cv)\n",
        "y_pred_dt = cross_val_predict(dt_best, X, y, cv=cv)\n",
        "y_pred_mlp = cross_val_predict(mlp_best, X, y, cv=cv)"
      ]
    },
    {
      "cell_type": "markdown",
      "metadata": {
        "id": "d7olC_yDsYb1"
      },
      "source": [
        "# Resultados"
      ]
    },
    {
      "cell_type": "code",
      "execution_count": null,
      "metadata": {},
      "outputs": [],
      "source": [
        "\n",
        "print(\"Cálculo das métricas do Random Forest :\")\n",
        "print(classification_report(y, y_pred_rf))\n",
        "print(\"Matrix de Confusão:\")\n",
        "print(confusion_matrix(y, y_pred_rf))\n",
        "\n",
        "\n",
        "plt.figure(figsize=(8, 6))\n",
        "sns.heatmap(confusion_matrix(y, y_pred_rf), annot=True, fmt='d', cmap='Blues')\n",
        "plt.title('Matrix de Confusão do Random Forest:')\n",
        "plt.xlabel('Previsado')\n",
        "plt.ylabel('True')\n",
        "plt.show()\n",
        "\n",
        "\n",
        "print(\"Cálculo das métricas da Decision Tree:\")\n",
        "print(classification_report(y, y_pred_dt))\n",
        "print(\"Matrix de Confusão:\")\n",
        "print(confusion_matrix(y, y_pred_dt))\n",
        "\n",
        "\n",
        "plt.figure(figsize=(8, 6))\n",
        "sns.heatmap(confusion_matrix(y, y_pred_dt), annot=True, fmt='d', cmap='Blues')\n",
        "plt.title('Matrix de Confusão do Decision Tree')\n",
        "plt.xlabel('Previsado')\n",
        "plt.ylabel('True')\n",
        "plt.show()\n",
        "\n",
        "\n",
        "print(\"Cálculo das métricas da Neural Network (MLP):\")\n",
        "print(classification_report(y, y_pred_mlp))\n",
        "print(\"Matrix de Confusão:\")\n",
        "print(confusion_matrix(y, y_pred_mlp))\n",
        "\n",
        "plt.figure(figsize=(8, 6))\n",
        "sns.heatmap(confusion_matrix(y, y_pred_mlp), annot=True, fmt='d', cmap='Blues')\n",
        "plt.title('Matrix de Confusão do Neural Network (MLP)')\n",
        "plt.xlabel('Previsão')\n",
        "plt.ylabel('True')\n",
        "plt.show()"
      ]
    },
    {
      "cell_type": "markdown",
      "metadata": {},
      "source": [
        "#### Teste T"
      ]
    },
    {
      "cell_type": "code",
      "execution_count": null,
      "metadata": {},
      "outputs": [],
      "source": [
        "from scipy.stats import ttest_rel\n",
        "t_stat_rf_dt, p_value_rf_dt = ttest_rel(rf_scores, dt_scores)\n",
        "print(f\"T-test between Random Forest and Decision Tree: t_stat={t_stat_rf_dt:.4f}, p_value={p_value_rf_dt:.4f}\")\n",
        "\n",
        "# Teste T entre Random Forest e MLP\n",
        "t_stat_rf_mlp, p_value_rf_mlp = ttest_rel(rf_scores, mlp_scores)\n",
        "print(f\"T-test between Random Forest and MLP: t_stat={t_stat_rf_mlp:.4f}, p_value={p_value_rf_mlp:.4f}\")\n",
        "\n",
        "# Teste T entre Decision Tree e MLP\n",
        "t_stat_dt_mlp, p_value_dt_mlp = ttest_rel(dt_scores, mlp_scores)\n",
        "print(f\"T-test between Decision Tree and MLP: t_stat={t_stat_dt_mlp:.4f}, p_value={p_value_dt_mlp:.4f}\")"
      ]
    }
  ],
  "metadata": {
    "colab": {
      "collapsed_sections": [
        "3uG9cgZSqFtX",
        "r6lc4f2sqFtZ"
      ],
      "provenance": []
    },
    "kernelspec": {
      "display_name": "Python 3",
      "name": "python3"
    },
    "language_info": {
      "codemirror_mode": {
        "name": "ipython",
        "version": 3
      },
      "file_extension": ".py",
      "mimetype": "text/x-python",
      "name": "python",
      "nbconvert_exporter": "python",
      "pygments_lexer": "ipython3",
      "version": "3.11.7"
    }
  },
  "nbformat": 4,
  "nbformat_minor": 0
}
